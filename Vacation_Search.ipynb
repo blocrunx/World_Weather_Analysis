{
 "cells": [
  {
   "cell_type": "code",
   "execution_count": 1,
   "metadata": {},
   "outputs": [],
   "source": [
    "# Import the dependencies.\n",
    "import pandas as pd\n",
    "# os for opening file\n",
    "import os\n",
    "# gmaps for google maps api\n",
    "import gmaps\n",
    "import requests\n",
    "# API key\n",
    "from config import g_key"
   ]
  },
  {
   "cell_type": "code",
   "execution_count": 2,
   "metadata": {},
   "outputs": [],
   "source": [
    "# Save file path to variable\n",
    "file_to_load = os.path.join(\"Resources\",\"WeatherPy_challenge.csv\")"
   ]
  },
  {
   "cell_type": "code",
   "execution_count": 3,
   "metadata": {},
   "outputs": [],
   "source": [
    "# Create DataFrme from csv\n",
    "vacation_df = pd.read_csv(file_to_load)"
   ]
  },
  {
   "cell_type": "code",
   "execution_count": 4,
   "metadata": {},
   "outputs": [
    {
     "data": {
      "text/html": [
       "<div>\n",
       "<style scoped>\n",
       "    .dataframe tbody tr th:only-of-type {\n",
       "        vertical-align: middle;\n",
       "    }\n",
       "\n",
       "    .dataframe tbody tr th {\n",
       "        vertical-align: top;\n",
       "    }\n",
       "\n",
       "    .dataframe thead th {\n",
       "        text-align: right;\n",
       "    }\n",
       "</style>\n",
       "<table border=\"1\" class=\"dataframe\">\n",
       "  <thead>\n",
       "    <tr style=\"text-align: right;\">\n",
       "      <th></th>\n",
       "      <th>Unnamed: 0</th>\n",
       "      <th>City</th>\n",
       "      <th>Country</th>\n",
       "      <th>Date</th>\n",
       "      <th>Lat</th>\n",
       "      <th>Lng</th>\n",
       "      <th>Max Temp</th>\n",
       "      <th>Humidity</th>\n",
       "      <th>Cloudiness</th>\n",
       "      <th>Wind Speed</th>\n",
       "      <th>Current Weather</th>\n",
       "      <th>Type of Weather</th>\n",
       "      <th>Rain Inches(last 3h)</th>\n",
       "      <th>Snow Inches(last 3h)</th>\n",
       "    </tr>\n",
       "  </thead>\n",
       "  <tbody>\n",
       "    <tr>\n",
       "      <th>0</th>\n",
       "      <td>0</td>\n",
       "      <td>Busselton</td>\n",
       "      <td>AU</td>\n",
       "      <td>2020-04-01 23:00:27</td>\n",
       "      <td>-33.65</td>\n",
       "      <td>115.33</td>\n",
       "      <td>57.99</td>\n",
       "      <td>67</td>\n",
       "      <td>94</td>\n",
       "      <td>11.52</td>\n",
       "      <td>overcast clouds</td>\n",
       "      <td>Clouds</td>\n",
       "      <td>0.0</td>\n",
       "      <td>0.0</td>\n",
       "    </tr>\n",
       "  </tbody>\n",
       "</table>\n",
       "</div>"
      ],
      "text/plain": [
       "   Unnamed: 0       City Country                 Date    Lat     Lng  \\\n",
       "0           0  Busselton      AU  2020-04-01 23:00:27 -33.65  115.33   \n",
       "\n",
       "   Max Temp  Humidity  Cloudiness  Wind Speed  Current Weather  \\\n",
       "0     57.99        67          94       11.52  overcast clouds   \n",
       "\n",
       "  Type of Weather  Rain Inches(last 3h)  Snow Inches(last 3h)  \n",
       "0          Clouds                   0.0                   0.0  "
      ]
     },
     "execution_count": 4,
     "metadata": {},
     "output_type": "execute_result"
    }
   ],
   "source": [
    "# Check df was properly imported from csv\n",
    "vacation_df.head(1)"
   ]
  },
  {
   "cell_type": "code",
   "execution_count": 5,
   "metadata": {},
   "outputs": [
    {
     "data": {
      "text/plain": [
       "Unnamed: 0                int64\n",
       "City                     object\n",
       "Country                  object\n",
       "Date                     object\n",
       "Lat                     float64\n",
       "Lng                     float64\n",
       "Max Temp                float64\n",
       "Humidity                  int64\n",
       "Cloudiness                int64\n",
       "Wind Speed              float64\n",
       "Current Weather          object\n",
       "Type of Weather          object\n",
       "Rain Inches(last 3h)    float64\n",
       "Snow Inches(last 3h)    float64\n",
       "dtype: object"
      ]
     },
     "execution_count": 5,
     "metadata": {},
     "output_type": "execute_result"
    }
   ],
   "source": [
    "# Explore the data, check data types\n",
    "vacation_df.dtypes"
   ]
  },
  {
   "cell_type": "code",
   "execution_count": 6,
   "metadata": {},
   "outputs": [
    {
     "data": {
      "text/plain": [
       "Unnamed: 0              575\n",
       "City                    575\n",
       "Country                 573\n",
       "Date                    575\n",
       "Lat                     575\n",
       "Lng                     575\n",
       "Max Temp                575\n",
       "Humidity                575\n",
       "Cloudiness              575\n",
       "Wind Speed              575\n",
       "Current Weather         575\n",
       "Type of Weather         575\n",
       "Rain Inches(last 3h)    575\n",
       "Snow Inches(last 3h)    575\n",
       "dtype: int64"
      ]
     },
     "execution_count": 6,
     "metadata": {},
     "output_type": "execute_result"
    }
   ],
   "source": [
    "# Explore the data, check for null values\n",
    "vacation_df.notnull().sum()"
   ]
  },
  {
   "cell_type": "code",
   "execution_count": 7,
   "metadata": {},
   "outputs": [],
   "source": [
    "# Drop rows with the two nan values in the dataset\n",
    "vacation_df = vacation_df.dropna()"
   ]
  },
  {
   "cell_type": "code",
   "execution_count": 8,
   "metadata": {},
   "outputs": [
    {
     "data": {
      "text/plain": [
       "Unnamed: 0              573\n",
       "City                    573\n",
       "Country                 573\n",
       "Date                    573\n",
       "Lat                     573\n",
       "Lng                     573\n",
       "Max Temp                573\n",
       "Humidity                573\n",
       "Cloudiness              573\n",
       "Wind Speed              573\n",
       "Current Weather         573\n",
       "Type of Weather         573\n",
       "Rain Inches(last 3h)    573\n",
       "Snow Inches(last 3h)    573\n",
       "dtype: int64"
      ]
     },
     "execution_count": 8,
     "metadata": {},
     "output_type": "execute_result"
    }
   ],
   "source": [
    "# Confirm rows were dropped\n",
    "vacation_df.notnull().sum()"
   ]
  },
  {
   "cell_type": "code",
   "execution_count": 9,
   "metadata": {},
   "outputs": [
    {
     "name": "stdin",
     "output_type": "stream",
     "text": [
      "What is the minimum temperature you would like for your trip? 20\n",
      "What is the maximum temperature you would like for your trip? 60\n"
     ]
    }
   ],
   "source": [
    "# Get users minimum and maximum temperatures for their trip\n",
    "min_temp = float(input(\"What is the minimum temperature you would like for your trip?\"))\n",
    "max_temp = float(input(\"What is the maximum temperature you would like for your trip?\"))\n"
   ]
  },
  {
   "cell_type": "code",
   "execution_count": 10,
   "metadata": {},
   "outputs": [
    {
     "name": "stdin",
     "output_type": "stream",
     "text": [
      "Would you like it to be raining on your vacation? [yes, no]: no\n",
      "Would you like it to be snowing on your vacation? [yes, no]: yes\n"
     ]
    }
   ],
   "source": [
    "# Function that takes either yes or no from user\n",
    "def get_choice(choices, precip_option):\n",
    "  choice = \"\"\n",
    "  while choice not in choices:\n",
    "      choice = input(f\"Would you like it to be {precip_option} on your vacation? [%s]:\" % \", \".join(choices))\n",
    "  return choice\n",
    "rain_option = get_choice([\"yes\",\"no\"], \"raining\")\n",
    "snow_option = get_choice([\"yes\",\"no\"], \"snowing\")"
   ]
  },
  {
   "cell_type": "code",
   "execution_count": 11,
   "metadata": {},
   "outputs": [],
   "source": [
    "\n",
    "# Get the locations with temperatures within user defined params\n",
    "vacation_temp_df = vacation_df.loc[(vacation_df['Max Temp'] >= min_temp)&(vacation_df['Max Temp'] <=max_temp)]"
   ]
  },
  {
   "cell_type": "code",
   "execution_count": 12,
   "metadata": {},
   "outputs": [
    {
     "data": {
      "text/plain": [
       "Unnamed: 0              212\n",
       "City                    212\n",
       "Country                 212\n",
       "Date                    212\n",
       "Lat                     212\n",
       "Lng                     212\n",
       "Max Temp                212\n",
       "Humidity                212\n",
       "Cloudiness              212\n",
       "Wind Speed              212\n",
       "Current Weather         212\n",
       "Type of Weather         212\n",
       "Rain Inches(last 3h)    212\n",
       "Snow Inches(last 3h)    212\n",
       "dtype: int64"
      ]
     },
     "execution_count": 12,
     "metadata": {},
     "output_type": "execute_result"
    }
   ],
   "source": [
    "vacation_temp_df.count()"
   ]
  },
  {
   "cell_type": "code",
   "execution_count": 13,
   "metadata": {},
   "outputs": [],
   "source": [
    "# Set variables to be passed to loc \n",
    "rain = \"Rain\"\n",
    "snow = \"Snow\"\n",
    "if rain_option == \"yes\":\n",
    "    vacation_weather_df_1 = vacation_temp_df.loc[(vacation_temp_df['Type of Weather'] == rain)] \n",
    "else:\n",
    "    vacation_weather_df_1 = vacation_temp_df.loc[(vacation_temp_df['Type of Weather'] != rain)]\n",
    "\n",
    "if snow_option == \"yes\":\n",
    "    vacation_weather_df_2 = vacation_weather_df_1.loc[(vacation_weather_df_1['Type of Weather']== snow)]\n",
    "else:\n",
    "     vacation_weather_df_2 = vacation_weather_df_1.loc[(vacation_weather_df_1['Type of Weather']!= snow)]\n",
    "        \n"
   ]
  },
  {
   "cell_type": "code",
   "execution_count": 14,
   "metadata": {},
   "outputs": [
    {
     "data": {
      "text/plain": [
       "Unnamed: 0              17\n",
       "City                    17\n",
       "Country                 17\n",
       "Date                    17\n",
       "Lat                     17\n",
       "Lng                     17\n",
       "Max Temp                17\n",
       "Humidity                17\n",
       "Cloudiness              17\n",
       "Wind Speed              17\n",
       "Current Weather         17\n",
       "Type of Weather         17\n",
       "Rain Inches(last 3h)    17\n",
       "Snow Inches(last 3h)    17\n",
       "dtype: int64"
      ]
     },
     "execution_count": 14,
     "metadata": {},
     "output_type": "execute_result"
    }
   ],
   "source": [
    "vacation_weather_df_2.count()"
   ]
  },
  {
   "cell_type": "code",
   "execution_count": 15,
   "metadata": {},
   "outputs": [
    {
     "data": {
      "text/html": [
       "<div>\n",
       "<style scoped>\n",
       "    .dataframe tbody tr th:only-of-type {\n",
       "        vertical-align: middle;\n",
       "    }\n",
       "\n",
       "    .dataframe tbody tr th {\n",
       "        vertical-align: top;\n",
       "    }\n",
       "\n",
       "    .dataframe thead th {\n",
       "        text-align: right;\n",
       "    }\n",
       "</style>\n",
       "<table border=\"1\" class=\"dataframe\">\n",
       "  <thead>\n",
       "    <tr style=\"text-align: right;\">\n",
       "      <th></th>\n",
       "      <th>Unnamed: 0</th>\n",
       "      <th>City</th>\n",
       "      <th>Country</th>\n",
       "      <th>Date</th>\n",
       "      <th>Lat</th>\n",
       "      <th>Lng</th>\n",
       "      <th>Max Temp</th>\n",
       "      <th>Humidity</th>\n",
       "      <th>Cloudiness</th>\n",
       "      <th>Wind Speed</th>\n",
       "      <th>Current Weather</th>\n",
       "      <th>Type of Weather</th>\n",
       "      <th>Rain Inches(last 3h)</th>\n",
       "      <th>Snow Inches(last 3h)</th>\n",
       "    </tr>\n",
       "  </thead>\n",
       "  <tbody>\n",
       "    <tr>\n",
       "      <th>19</th>\n",
       "      <td>19</td>\n",
       "      <td>Ostrovnoy</td>\n",
       "      <td>RU</td>\n",
       "      <td>2020-04-01 23:00:33</td>\n",
       "      <td>68.05</td>\n",
       "      <td>39.51</td>\n",
       "      <td>20.75</td>\n",
       "      <td>96</td>\n",
       "      <td>91</td>\n",
       "      <td>9.15</td>\n",
       "      <td>light snow</td>\n",
       "      <td>Snow</td>\n",
       "      <td>0.0</td>\n",
       "      <td>0.010630</td>\n",
       "    </tr>\n",
       "    <tr>\n",
       "      <th>23</th>\n",
       "      <td>23</td>\n",
       "      <td>Severo-Kurilsk</td>\n",
       "      <td>RU</td>\n",
       "      <td>2020-04-01 23:00:35</td>\n",
       "      <td>50.68</td>\n",
       "      <td>156.12</td>\n",
       "      <td>34.63</td>\n",
       "      <td>91</td>\n",
       "      <td>100</td>\n",
       "      <td>4.27</td>\n",
       "      <td>light snow</td>\n",
       "      <td>Snow</td>\n",
       "      <td>0.0</td>\n",
       "      <td>0.004724</td>\n",
       "    </tr>\n",
       "    <tr>\n",
       "      <th>56</th>\n",
       "      <td>56</td>\n",
       "      <td>Provideniya</td>\n",
       "      <td>RU</td>\n",
       "      <td>2020-04-01 23:00:44</td>\n",
       "      <td>64.38</td>\n",
       "      <td>-173.30</td>\n",
       "      <td>26.60</td>\n",
       "      <td>86</td>\n",
       "      <td>90</td>\n",
       "      <td>6.71</td>\n",
       "      <td>snow</td>\n",
       "      <td>Snow</td>\n",
       "      <td>0.0</td>\n",
       "      <td>0.000000</td>\n",
       "    </tr>\n",
       "    <tr>\n",
       "      <th>81</th>\n",
       "      <td>81</td>\n",
       "      <td>Yar-Sale</td>\n",
       "      <td>RU</td>\n",
       "      <td>2020-04-01 23:00:52</td>\n",
       "      <td>66.83</td>\n",
       "      <td>70.83</td>\n",
       "      <td>22.60</td>\n",
       "      <td>97</td>\n",
       "      <td>100</td>\n",
       "      <td>26.80</td>\n",
       "      <td>snow</td>\n",
       "      <td>Snow</td>\n",
       "      <td>0.0</td>\n",
       "      <td>0.086614</td>\n",
       "    </tr>\n",
       "    <tr>\n",
       "      <th>136</th>\n",
       "      <td>136</td>\n",
       "      <td>Dzhebariki-Khaya</td>\n",
       "      <td>RU</td>\n",
       "      <td>2020-04-01 23:01:08</td>\n",
       "      <td>62.22</td>\n",
       "      <td>135.80</td>\n",
       "      <td>23.05</td>\n",
       "      <td>95</td>\n",
       "      <td>100</td>\n",
       "      <td>5.55</td>\n",
       "      <td>light snow</td>\n",
       "      <td>Snow</td>\n",
       "      <td>0.0</td>\n",
       "      <td>0.024803</td>\n",
       "    </tr>\n",
       "  </tbody>\n",
       "</table>\n",
       "</div>"
      ],
      "text/plain": [
       "     Unnamed: 0              City Country                 Date    Lat     Lng  \\\n",
       "19           19         Ostrovnoy      RU  2020-04-01 23:00:33  68.05   39.51   \n",
       "23           23    Severo-Kurilsk      RU  2020-04-01 23:00:35  50.68  156.12   \n",
       "56           56       Provideniya      RU  2020-04-01 23:00:44  64.38 -173.30   \n",
       "81           81          Yar-Sale      RU  2020-04-01 23:00:52  66.83   70.83   \n",
       "136         136  Dzhebariki-Khaya      RU  2020-04-01 23:01:08  62.22  135.80   \n",
       "\n",
       "     Max Temp  Humidity  Cloudiness  Wind Speed Current Weather  \\\n",
       "19      20.75        96          91        9.15      light snow   \n",
       "23      34.63        91         100        4.27      light snow   \n",
       "56      26.60        86          90        6.71            snow   \n",
       "81      22.60        97         100       26.80            snow   \n",
       "136     23.05        95         100        5.55      light snow   \n",
       "\n",
       "    Type of Weather  Rain Inches(last 3h)  Snow Inches(last 3h)  \n",
       "19             Snow                   0.0              0.010630  \n",
       "23             Snow                   0.0              0.004724  \n",
       "56             Snow                   0.0              0.000000  \n",
       "81             Snow                   0.0              0.086614  \n",
       "136            Snow                   0.0              0.024803  "
      ]
     },
     "execution_count": 15,
     "metadata": {},
     "output_type": "execute_result"
    }
   ],
   "source": [
    "vacation_weather_df_2.head()"
   ]
  },
  {
   "cell_type": "code",
   "execution_count": 16,
   "metadata": {},
   "outputs": [],
   "source": [
    "hotel_df = vacation_weather_df_2[['City', 'Country', 'Max Temp', 'Lat', 'Lng']].copy()"
   ]
  },
  {
   "cell_type": "code",
   "execution_count": 17,
   "metadata": {},
   "outputs": [
    {
     "data": {
      "text/html": [
       "<div>\n",
       "<style scoped>\n",
       "    .dataframe tbody tr th:only-of-type {\n",
       "        vertical-align: middle;\n",
       "    }\n",
       "\n",
       "    .dataframe tbody tr th {\n",
       "        vertical-align: top;\n",
       "    }\n",
       "\n",
       "    .dataframe thead th {\n",
       "        text-align: right;\n",
       "    }\n",
       "</style>\n",
       "<table border=\"1\" class=\"dataframe\">\n",
       "  <thead>\n",
       "    <tr style=\"text-align: right;\">\n",
       "      <th></th>\n",
       "      <th>City</th>\n",
       "      <th>Country</th>\n",
       "      <th>Max Temp</th>\n",
       "      <th>Lat</th>\n",
       "      <th>Lng</th>\n",
       "    </tr>\n",
       "  </thead>\n",
       "  <tbody>\n",
       "    <tr>\n",
       "      <th>19</th>\n",
       "      <td>Ostrovnoy</td>\n",
       "      <td>RU</td>\n",
       "      <td>20.75</td>\n",
       "      <td>68.05</td>\n",
       "      <td>39.51</td>\n",
       "    </tr>\n",
       "    <tr>\n",
       "      <th>23</th>\n",
       "      <td>Severo-Kurilsk</td>\n",
       "      <td>RU</td>\n",
       "      <td>34.63</td>\n",
       "      <td>50.68</td>\n",
       "      <td>156.12</td>\n",
       "    </tr>\n",
       "    <tr>\n",
       "      <th>56</th>\n",
       "      <td>Provideniya</td>\n",
       "      <td>RU</td>\n",
       "      <td>26.60</td>\n",
       "      <td>64.38</td>\n",
       "      <td>-173.30</td>\n",
       "    </tr>\n",
       "  </tbody>\n",
       "</table>\n",
       "</div>"
      ],
      "text/plain": [
       "              City Country  Max Temp    Lat     Lng\n",
       "19       Ostrovnoy      RU     20.75  68.05   39.51\n",
       "23  Severo-Kurilsk      RU     34.63  50.68  156.12\n",
       "56     Provideniya      RU     26.60  64.38 -173.30"
      ]
     },
     "execution_count": 17,
     "metadata": {},
     "output_type": "execute_result"
    }
   ],
   "source": [
    "hotel_df.head(3)"
   ]
  },
  {
   "cell_type": "code",
   "execution_count": 18,
   "metadata": {},
   "outputs": [
    {
     "name": "stdout",
     "output_type": "stream",
     "text": [
      "Hotel not found... skipping.\n",
      "Hotel not found... skipping.\n",
      "Hotel not found... skipping.\n",
      "Hotel not found... skipping.\n",
      "Hotel not found... skipping.\n",
      "Hotel not found... skipping.\n",
      "Hotel not found... skipping.\n",
      "Hotel not found... skipping.\n",
      "Hotel not found... skipping.\n",
      "fin\n"
     ]
    }
   ],
   "source": [
    "params = {'radius': 5000, 'type': 'lodging', 'key': g_key}\n",
    "# Iterate through the DataFrame.\n",
    "for index, row in hotel_df.iterrows():\n",
    "    # Get the latitude and longitude.\n",
    "    lat = row[\"Lat\"]\n",
    "    lng = row[\"Lng\"]\n",
    "\n",
    "    # Add the latitude and longitude to location key for the params dictionary.\n",
    "    params[\"location\"] = f\"{lat},{lng}\"\n",
    "\n",
    "    # Use the search term: \"lodging\" and our latitude and longitude.\n",
    "    base_url = \"https://maps.googleapis.com/maps/api/place/nearbysearch/json\"\n",
    "    # Make request and get the JSON data from the search.\n",
    "    hotels = requests.get(base_url, params=params).json()\n",
    "    # Grab the first hotel from the results and store the name.\n",
    "    try:\n",
    "        hotel_df.loc[index, \"Hotel Name\"] = hotels[\"results\"][0][\"name\"]\n",
    "    except (IndexError):\n",
    "        print(\"Hotel not found... skipping.\")\n",
    "print(\"fin\")"
   ]
  },
  {
   "cell_type": "code",
   "execution_count": 19,
   "metadata": {},
   "outputs": [],
   "source": [
    "info_box_template = \"\"\"\n",
    "<dl>\n",
    "<dt>Hotel Name</dt><dd>{Hotel Name}</dd>\n",
    "<dt>City</dt><dd>{City}</dd>\n",
    "<dt>Country</dt><dd>{Country}</dd>\n",
    "<dt>Max Temp</dt><dd>{Max Temp} °F</dd>\n",
    "</dl>\n",
    "\"\"\"\n",
    "hotel_info = [info_box_template.format(**row) for index, row in hotel_df.iterrows()]"
   ]
  },
  {
   "cell_type": "code",
   "execution_count": 20,
   "metadata": {},
   "outputs": [
    {
     "data": {
      "application/vnd.jupyter.widget-view+json": {
       "model_id": "143e270e27bd4aaba3ec95f47381142c",
       "version_major": 2,
       "version_minor": 0
      },
      "text/plain": [
       "Figure(layout=FigureLayout(height='420px'))"
      ]
     },
     "metadata": {},
     "output_type": "display_data"
    }
   ],
   "source": [
    "# Add a heatmap of temperature for the vacation spots and a pop-up marker for each city.\n",
    "locations = hotel_df[[\"Lat\", \"Lng\"]]\n",
    "max_temp = hotel_df[\"Max Temp\"]\n",
    "# Store the DataFrame Row.\n",
    "fig = gmaps.figure(center=(30.0, 31.0), zoom_level=1.5)\n",
    "heat_layer = gmaps.heatmap_layer(locations, weights=max_temp,dissipating=False, max_intensity=300, point_radius=4)\n",
    "marker_layer = gmaps.marker_layer(locations, info_box_content=hotel_info)\n",
    "fig.add_layer(heat_layer)\n",
    "fig.add_layer(marker_layer)\n",
    "\n",
    "# Call the figure to plot the data.\n",
    "fig"
   ]
  },
  {
   "cell_type": "code",
   "execution_count": 22,
   "metadata": {},
   "outputs": [
    {
     "data": {
      "text/html": [
       "<div>\n",
       "<style scoped>\n",
       "    .dataframe tbody tr th:only-of-type {\n",
       "        vertical-align: middle;\n",
       "    }\n",
       "\n",
       "    .dataframe tbody tr th {\n",
       "        vertical-align: top;\n",
       "    }\n",
       "\n",
       "    .dataframe thead th {\n",
       "        text-align: right;\n",
       "    }\n",
       "</style>\n",
       "<table border=\"1\" class=\"dataframe\">\n",
       "  <thead>\n",
       "    <tr style=\"text-align: right;\">\n",
       "      <th></th>\n",
       "      <th>City</th>\n",
       "      <th>Country</th>\n",
       "      <th>Max Temp</th>\n",
       "      <th>Lat</th>\n",
       "      <th>Lng</th>\n",
       "      <th>Hotel Name</th>\n",
       "    </tr>\n",
       "  </thead>\n",
       "  <tbody>\n",
       "    <tr>\n",
       "      <th>19</th>\n",
       "      <td>Ostrovnoy</td>\n",
       "      <td>RU</td>\n",
       "      <td>20.75</td>\n",
       "      <td>68.05</td>\n",
       "      <td>39.51</td>\n",
       "      <td>NaN</td>\n",
       "    </tr>\n",
       "    <tr>\n",
       "      <th>23</th>\n",
       "      <td>Severo-Kurilsk</td>\n",
       "      <td>RU</td>\n",
       "      <td>34.63</td>\n",
       "      <td>50.68</td>\n",
       "      <td>156.12</td>\n",
       "      <td>Kak Doma</td>\n",
       "    </tr>\n",
       "    <tr>\n",
       "      <th>56</th>\n",
       "      <td>Provideniya</td>\n",
       "      <td>RU</td>\n",
       "      <td>26.60</td>\n",
       "      <td>64.38</td>\n",
       "      <td>-173.30</td>\n",
       "      <td>NaN</td>\n",
       "    </tr>\n",
       "    <tr>\n",
       "      <th>81</th>\n",
       "      <td>Yar-Sale</td>\n",
       "      <td>RU</td>\n",
       "      <td>22.60</td>\n",
       "      <td>66.83</td>\n",
       "      <td>70.83</td>\n",
       "      <td>Yalemd</td>\n",
       "    </tr>\n",
       "    <tr>\n",
       "      <th>136</th>\n",
       "      <td>Dzhebariki-Khaya</td>\n",
       "      <td>RU</td>\n",
       "      <td>23.05</td>\n",
       "      <td>62.22</td>\n",
       "      <td>135.80</td>\n",
       "      <td>NaN</td>\n",
       "    </tr>\n",
       "    <tr>\n",
       "      <th>142</th>\n",
       "      <td>Sobolevo</td>\n",
       "      <td>RU</td>\n",
       "      <td>33.98</td>\n",
       "      <td>54.43</td>\n",
       "      <td>31.90</td>\n",
       "      <td>NaN</td>\n",
       "    </tr>\n",
       "    <tr>\n",
       "      <th>259</th>\n",
       "      <td>Homer</td>\n",
       "      <td>US</td>\n",
       "      <td>39.00</td>\n",
       "      <td>59.64</td>\n",
       "      <td>-151.55</td>\n",
       "      <td>Beluga Lake Lodge</td>\n",
       "    </tr>\n",
       "    <tr>\n",
       "      <th>296</th>\n",
       "      <td>Lavrentiya</td>\n",
       "      <td>RU</td>\n",
       "      <td>23.00</td>\n",
       "      <td>65.58</td>\n",
       "      <td>-171.00</td>\n",
       "      <td>NaN</td>\n",
       "    </tr>\n",
       "    <tr>\n",
       "      <th>318</th>\n",
       "      <td>Nome</td>\n",
       "      <td>US</td>\n",
       "      <td>23.00</td>\n",
       "      <td>64.50</td>\n",
       "      <td>-165.41</td>\n",
       "      <td>Dredge 7 Inn</td>\n",
       "    </tr>\n",
       "    <tr>\n",
       "      <th>364</th>\n",
       "      <td>Okhotsk</td>\n",
       "      <td>RU</td>\n",
       "      <td>21.87</td>\n",
       "      <td>59.38</td>\n",
       "      <td>143.30</td>\n",
       "      <td>NaN</td>\n",
       "    </tr>\n",
       "    <tr>\n",
       "      <th>373</th>\n",
       "      <td>Kichera</td>\n",
       "      <td>RU</td>\n",
       "      <td>31.91</td>\n",
       "      <td>55.94</td>\n",
       "      <td>110.10</td>\n",
       "      <td>NaN</td>\n",
       "    </tr>\n",
       "    <tr>\n",
       "      <th>379</th>\n",
       "      <td>Salmon Arm</td>\n",
       "      <td>CA</td>\n",
       "      <td>36.00</td>\n",
       "      <td>50.70</td>\n",
       "      <td>-119.30</td>\n",
       "      <td>Travelodge by Wyndham Salmon Arm</td>\n",
       "    </tr>\n",
       "    <tr>\n",
       "      <th>423</th>\n",
       "      <td>Khandyga</td>\n",
       "      <td>RU</td>\n",
       "      <td>22.66</td>\n",
       "      <td>62.67</td>\n",
       "      <td>135.60</td>\n",
       "      <td>Apel'sin</td>\n",
       "    </tr>\n",
       "    <tr>\n",
       "      <th>429</th>\n",
       "      <td>Worland</td>\n",
       "      <td>US</td>\n",
       "      <td>28.99</td>\n",
       "      <td>44.02</td>\n",
       "      <td>-107.96</td>\n",
       "      <td>Town House Motor Inn</td>\n",
       "    </tr>\n",
       "    <tr>\n",
       "      <th>464</th>\n",
       "      <td>Agirish</td>\n",
       "      <td>RU</td>\n",
       "      <td>25.39</td>\n",
       "      <td>61.92</td>\n",
       "      <td>63.02</td>\n",
       "      <td>NaN</td>\n",
       "    </tr>\n",
       "    <tr>\n",
       "      <th>478</th>\n",
       "      <td>Kharovsk</td>\n",
       "      <td>RU</td>\n",
       "      <td>30.07</td>\n",
       "      <td>59.96</td>\n",
       "      <td>40.19</td>\n",
       "      <td>NaN</td>\n",
       "    </tr>\n",
       "    <tr>\n",
       "      <th>574</th>\n",
       "      <td>Darovskoy</td>\n",
       "      <td>RU</td>\n",
       "      <td>24.12</td>\n",
       "      <td>58.77</td>\n",
       "      <td>47.96</td>\n",
       "      <td>Hotel \"Central\"</td>\n",
       "    </tr>\n",
       "  </tbody>\n",
       "</table>\n",
       "</div>"
      ],
      "text/plain": [
       "                 City Country  Max Temp    Lat     Lng  \\\n",
       "19          Ostrovnoy      RU     20.75  68.05   39.51   \n",
       "23     Severo-Kurilsk      RU     34.63  50.68  156.12   \n",
       "56        Provideniya      RU     26.60  64.38 -173.30   \n",
       "81           Yar-Sale      RU     22.60  66.83   70.83   \n",
       "136  Dzhebariki-Khaya      RU     23.05  62.22  135.80   \n",
       "142          Sobolevo      RU     33.98  54.43   31.90   \n",
       "259             Homer      US     39.00  59.64 -151.55   \n",
       "296        Lavrentiya      RU     23.00  65.58 -171.00   \n",
       "318              Nome      US     23.00  64.50 -165.41   \n",
       "364           Okhotsk      RU     21.87  59.38  143.30   \n",
       "373           Kichera      RU     31.91  55.94  110.10   \n",
       "379        Salmon Arm      CA     36.00  50.70 -119.30   \n",
       "423          Khandyga      RU     22.66  62.67  135.60   \n",
       "429           Worland      US     28.99  44.02 -107.96   \n",
       "464           Agirish      RU     25.39  61.92   63.02   \n",
       "478          Kharovsk      RU     30.07  59.96   40.19   \n",
       "574         Darovskoy      RU     24.12  58.77   47.96   \n",
       "\n",
       "                           Hotel Name  \n",
       "19                                NaN  \n",
       "23                           Kak Doma  \n",
       "56                                NaN  \n",
       "81                             Yalemd  \n",
       "136                               NaN  \n",
       "142                               NaN  \n",
       "259                 Beluga Lake Lodge  \n",
       "296                               NaN  \n",
       "318                      Dredge 7 Inn  \n",
       "364                               NaN  \n",
       "373                               NaN  \n",
       "379  Travelodge by Wyndham Salmon Arm  \n",
       "423                          Apel'sin  \n",
       "429              Town House Motor Inn  \n",
       "464                               NaN  \n",
       "478                               NaN  \n",
       "574                   Hotel \"Central\"  "
      ]
     },
     "execution_count": 22,
     "metadata": {},
     "output_type": "execute_result"
    }
   ],
   "source": [
    "hotel_df"
   ]
  },
  {
   "cell_type": "code",
   "execution_count": 23,
   "metadata": {},
   "outputs": [],
   "source": [
    "save_path = os.path.join('Resources','WeatherPy_vacation.csv')\n",
    "hotel_df.to_csv(save_path)"
   ]
  },
  {
   "cell_type": "code",
   "execution_count": null,
   "metadata": {},
   "outputs": [],
   "source": []
  }
 ],
 "metadata": {
  "kernelspec": {
   "display_name": "PythonData",
   "language": "python",
   "name": "pythondata"
  },
  "language_info": {
   "codemirror_mode": {
    "name": "ipython",
    "version": 3
   },
   "file_extension": ".py",
   "mimetype": "text/x-python",
   "name": "python",
   "nbconvert_exporter": "python",
   "pygments_lexer": "ipython3",
   "version": "3.7.6"
  }
 },
 "nbformat": 4,
 "nbformat_minor": 4
}
