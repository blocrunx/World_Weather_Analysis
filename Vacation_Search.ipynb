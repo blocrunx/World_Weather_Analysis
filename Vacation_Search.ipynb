{
 "cells": [
  {
   "cell_type": "code",
   "execution_count": 1,
   "metadata": {},
   "outputs": [],
   "source": [
    "# Import the dependencies.\n",
    "import pandas as pd\n",
    "# os for opening file\n",
    "import os\n",
    "# gmaps for google maps api\n",
    "import gmaps\n",
    "import requests\n",
    "# API key\n",
    "from config import g_key2"
   ]
  },
  {
   "cell_type": "code",
   "execution_count": 2,
   "metadata": {},
   "outputs": [],
   "source": [
    "# Save file path to variable\n",
    "file_to_load = os.path.join(\"Resources\",\"WeatherPy_challenge.csv\")"
   ]
  },
  {
   "cell_type": "code",
   "execution_count": 3,
   "metadata": {},
   "outputs": [],
   "source": [
    "# Create DataFrme from csv\n",
    "vacation_df = pd.read_csv(file_to_load)"
   ]
  },
  {
   "cell_type": "code",
   "execution_count": 4,
   "metadata": {},
   "outputs": [
    {
     "data": {
      "text/html": [
       "<div>\n",
       "<style scoped>\n",
       "    .dataframe tbody tr th:only-of-type {\n",
       "        vertical-align: middle;\n",
       "    }\n",
       "\n",
       "    .dataframe tbody tr th {\n",
       "        vertical-align: top;\n",
       "    }\n",
       "\n",
       "    .dataframe thead th {\n",
       "        text-align: right;\n",
       "    }\n",
       "</style>\n",
       "<table border=\"1\" class=\"dataframe\">\n",
       "  <thead>\n",
       "    <tr style=\"text-align: right;\">\n",
       "      <th></th>\n",
       "      <th>Unnamed: 0</th>\n",
       "      <th>City</th>\n",
       "      <th>Country</th>\n",
       "      <th>Date</th>\n",
       "      <th>Lat</th>\n",
       "      <th>Lng</th>\n",
       "      <th>Max Temp</th>\n",
       "      <th>Humidity</th>\n",
       "      <th>Cloudiness</th>\n",
       "      <th>Wind Speed</th>\n",
       "      <th>Current Weather</th>\n",
       "      <th>Type of Weather</th>\n",
       "      <th>Rain Inches(last 3h)</th>\n",
       "      <th>Snow Inches(last 3h)</th>\n",
       "    </tr>\n",
       "  </thead>\n",
       "  <tbody>\n",
       "    <tr>\n",
       "      <th>0</th>\n",
       "      <td>0</td>\n",
       "      <td>Busselton</td>\n",
       "      <td>AU</td>\n",
       "      <td>2020-04-01 23:00:27</td>\n",
       "      <td>-33.65</td>\n",
       "      <td>115.33</td>\n",
       "      <td>57.99</td>\n",
       "      <td>67</td>\n",
       "      <td>94</td>\n",
       "      <td>11.52</td>\n",
       "      <td>overcast clouds</td>\n",
       "      <td>Clouds</td>\n",
       "      <td>0.0</td>\n",
       "      <td>0.0</td>\n",
       "    </tr>\n",
       "  </tbody>\n",
       "</table>\n",
       "</div>"
      ],
      "text/plain": [
       "   Unnamed: 0       City Country                 Date    Lat     Lng  \\\n",
       "0           0  Busselton      AU  2020-04-01 23:00:27 -33.65  115.33   \n",
       "\n",
       "   Max Temp  Humidity  Cloudiness  Wind Speed  Current Weather  \\\n",
       "0     57.99        67          94       11.52  overcast clouds   \n",
       "\n",
       "  Type of Weather  Rain Inches(last 3h)  Snow Inches(last 3h)  \n",
       "0          Clouds                   0.0                   0.0  "
      ]
     },
     "execution_count": 4,
     "metadata": {},
     "output_type": "execute_result"
    }
   ],
   "source": [
    "# Check df was properly imported from csv\n",
    "vacation_df.head(1)"
   ]
  },
  {
   "cell_type": "code",
   "execution_count": 5,
   "metadata": {},
   "outputs": [
    {
     "data": {
      "text/plain": [
       "Unnamed: 0                int64\n",
       "City                     object\n",
       "Country                  object\n",
       "Date                     object\n",
       "Lat                     float64\n",
       "Lng                     float64\n",
       "Max Temp                float64\n",
       "Humidity                  int64\n",
       "Cloudiness                int64\n",
       "Wind Speed              float64\n",
       "Current Weather          object\n",
       "Type of Weather          object\n",
       "Rain Inches(last 3h)    float64\n",
       "Snow Inches(last 3h)    float64\n",
       "dtype: object"
      ]
     },
     "execution_count": 5,
     "metadata": {},
     "output_type": "execute_result"
    }
   ],
   "source": [
    "# Explore the data, check data types\n",
    "vacation_df.dtypes"
   ]
  },
  {
   "cell_type": "code",
   "execution_count": 6,
   "metadata": {},
   "outputs": [
    {
     "data": {
      "text/plain": [
       "Unnamed: 0              575\n",
       "City                    575\n",
       "Country                 573\n",
       "Date                    575\n",
       "Lat                     575\n",
       "Lng                     575\n",
       "Max Temp                575\n",
       "Humidity                575\n",
       "Cloudiness              575\n",
       "Wind Speed              575\n",
       "Current Weather         575\n",
       "Type of Weather         575\n",
       "Rain Inches(last 3h)    575\n",
       "Snow Inches(last 3h)    575\n",
       "dtype: int64"
      ]
     },
     "execution_count": 6,
     "metadata": {},
     "output_type": "execute_result"
    }
   ],
   "source": [
    "# Explore the data, check for null values\n",
    "vacation_df.notnull().sum()"
   ]
  },
  {
   "cell_type": "code",
   "execution_count": 7,
   "metadata": {},
   "outputs": [],
   "source": [
    "# Drop rows with the two nan values in the dataset\n",
    "vacation_df = vacation_df.dropna()"
   ]
  },
  {
   "cell_type": "code",
   "execution_count": 8,
   "metadata": {},
   "outputs": [
    {
     "data": {
      "text/plain": [
       "Unnamed: 0              573\n",
       "City                    573\n",
       "Country                 573\n",
       "Date                    573\n",
       "Lat                     573\n",
       "Lng                     573\n",
       "Max Temp                573\n",
       "Humidity                573\n",
       "Cloudiness              573\n",
       "Wind Speed              573\n",
       "Current Weather         573\n",
       "Type of Weather         573\n",
       "Rain Inches(last 3h)    573\n",
       "Snow Inches(last 3h)    573\n",
       "dtype: int64"
      ]
     },
     "execution_count": 8,
     "metadata": {},
     "output_type": "execute_result"
    }
   ],
   "source": [
    "# Confirm rows were dropped\n",
    "vacation_df.notnull().sum()"
   ]
  },
  {
   "cell_type": "code",
   "execution_count": 9,
   "metadata": {},
   "outputs": [
    {
     "name": "stdin",
     "output_type": "stream",
     "text": [
      "What is the minimum temperature you would like for your trip? 65\n",
      "What is the maximum temperature you would like for your trip? 95\n"
     ]
    }
   ],
   "source": [
    "# Get users minimum and maximum temperatures for their trip\n",
    "min_temp = float(input(\"What is the minimum temperature you would like for your trip?\"))\n",
    "max_temp = float(input(\"What is the maximum temperature you would like for your trip?\"))\n"
   ]
  },
  {
   "cell_type": "code",
   "execution_count": 10,
   "metadata": {},
   "outputs": [
    {
     "name": "stdin",
     "output_type": "stream",
     "text": [
      "Would you like it to be raining on your vacation? [yes, no]: no\n",
      "Would you like it to be snowing on your vacation? [yes, no]: no\n"
     ]
    }
   ],
   "source": [
    "# Function that takes either yes or no from user\n",
    "def get_choice(choices, precip_option):\n",
    "  choice = \"\"\n",
    "  while choice not in choices:\n",
    "      choice = input(f\"Would you like it to be {precip_option} on your vacation? [%s]:\" % \", \".join(choices))\n",
    "  return choice\n",
    "rain_option = get_choice([\"yes\",\"no\"], \"raining\")\n",
    "snow_option = get_choice([\"yes\",\"no\"], \"snowing\")"
   ]
  },
  {
   "cell_type": "code",
   "execution_count": 11,
   "metadata": {},
   "outputs": [],
   "source": [
    "\n",
    "# Get the locations with temperatures within user defined params\n",
    "vacation_temp_df = vacation_df.loc[(vacation_df['Max Temp'] >= min_temp)&(vacation_df['Max Temp'] <=max_temp)]"
   ]
  },
  {
   "cell_type": "code",
   "execution_count": 12,
   "metadata": {},
   "outputs": [
    {
     "data": {
      "text/plain": [
       "Unnamed: 0              270\n",
       "City                    270\n",
       "Country                 270\n",
       "Date                    270\n",
       "Lat                     270\n",
       "Lng                     270\n",
       "Max Temp                270\n",
       "Humidity                270\n",
       "Cloudiness              270\n",
       "Wind Speed              270\n",
       "Current Weather         270\n",
       "Type of Weather         270\n",
       "Rain Inches(last 3h)    270\n",
       "Snow Inches(last 3h)    270\n",
       "dtype: int64"
      ]
     },
     "execution_count": 12,
     "metadata": {},
     "output_type": "execute_result"
    }
   ],
   "source": [
    "vacation_temp_df.count()"
   ]
  },
  {
   "cell_type": "code",
   "execution_count": 13,
   "metadata": {},
   "outputs": [],
   "source": [
    "# Set variables to be passed to loc \n",
    "rain = \"Rain\"\n",
    "snow = \"Snow\"\n",
    "if rain_option == \"yes\":\n",
    "    vacation_weather_df_1 = vacation_temp_df.loc[(vacation_temp_df['Type of Weather'] == rain)] \n",
    "else:\n",
    "    vacation_weather_df_1 = vacation_temp_df.loc[(vacation_temp_df['Type of Weather'] != rain)]\n",
    "\n",
    "if snow_option == \"yes\":\n",
    "    vacation_weather_df_2 = vacation_weather_df_1.loc[(vacation_weather_df_1['Type of Weather']== snow)]\n",
    "else:\n",
    "     vacation_weather_df_2 = vacation_weather_df_1.loc[(vacation_weather_df_1['Type of Weather']!= snow)]\n",
    "        \n"
   ]
  },
  {
   "cell_type": "code",
   "execution_count": 14,
   "metadata": {},
   "outputs": [
    {
     "data": {
      "text/plain": [
       "Unnamed: 0              184\n",
       "City                    184\n",
       "Country                 184\n",
       "Date                    184\n",
       "Lat                     184\n",
       "Lng                     184\n",
       "Max Temp                184\n",
       "Humidity                184\n",
       "Cloudiness              184\n",
       "Wind Speed              184\n",
       "Current Weather         184\n",
       "Type of Weather         184\n",
       "Rain Inches(last 3h)    184\n",
       "Snow Inches(last 3h)    184\n",
       "dtype: int64"
      ]
     },
     "execution_count": 14,
     "metadata": {},
     "output_type": "execute_result"
    }
   ],
   "source": [
    "vacation_weather_df_2.count()"
   ]
  },
  {
   "cell_type": "code",
   "execution_count": 15,
   "metadata": {},
   "outputs": [
    {
     "data": {
      "text/html": [
       "<div>\n",
       "<style scoped>\n",
       "    .dataframe tbody tr th:only-of-type {\n",
       "        vertical-align: middle;\n",
       "    }\n",
       "\n",
       "    .dataframe tbody tr th {\n",
       "        vertical-align: top;\n",
       "    }\n",
       "\n",
       "    .dataframe thead th {\n",
       "        text-align: right;\n",
       "    }\n",
       "</style>\n",
       "<table border=\"1\" class=\"dataframe\">\n",
       "  <thead>\n",
       "    <tr style=\"text-align: right;\">\n",
       "      <th></th>\n",
       "      <th>Unnamed: 0</th>\n",
       "      <th>City</th>\n",
       "      <th>Country</th>\n",
       "      <th>Date</th>\n",
       "      <th>Lat</th>\n",
       "      <th>Lng</th>\n",
       "      <th>Max Temp</th>\n",
       "      <th>Humidity</th>\n",
       "      <th>Cloudiness</th>\n",
       "      <th>Wind Speed</th>\n",
       "      <th>Current Weather</th>\n",
       "      <th>Type of Weather</th>\n",
       "      <th>Rain Inches(last 3h)</th>\n",
       "      <th>Snow Inches(last 3h)</th>\n",
       "    </tr>\n",
       "  </thead>\n",
       "  <tbody>\n",
       "    <tr>\n",
       "      <th>3</th>\n",
       "      <td>3</td>\n",
       "      <td>Hilo</td>\n",
       "      <td>US</td>\n",
       "      <td>2020-04-01 23:00:28</td>\n",
       "      <td>19.73</td>\n",
       "      <td>-155.09</td>\n",
       "      <td>80.60</td>\n",
       "      <td>57</td>\n",
       "      <td>1</td>\n",
       "      <td>5.82</td>\n",
       "      <td>clear sky</td>\n",
       "      <td>Clear</td>\n",
       "      <td>0.0</td>\n",
       "      <td>0.0</td>\n",
       "    </tr>\n",
       "    <tr>\n",
       "      <th>5</th>\n",
       "      <td>5</td>\n",
       "      <td>Benguela</td>\n",
       "      <td>AO</td>\n",
       "      <td>2020-04-01 23:00:29</td>\n",
       "      <td>-12.58</td>\n",
       "      <td>13.41</td>\n",
       "      <td>76.78</td>\n",
       "      <td>83</td>\n",
       "      <td>43</td>\n",
       "      <td>3.31</td>\n",
       "      <td>scattered clouds</td>\n",
       "      <td>Clouds</td>\n",
       "      <td>0.0</td>\n",
       "      <td>0.0</td>\n",
       "    </tr>\n",
       "    <tr>\n",
       "      <th>14</th>\n",
       "      <td>14</td>\n",
       "      <td>Vaini</td>\n",
       "      <td>TO</td>\n",
       "      <td>2020-04-01 23:00:31</td>\n",
       "      <td>-21.20</td>\n",
       "      <td>-175.20</td>\n",
       "      <td>84.20</td>\n",
       "      <td>74</td>\n",
       "      <td>75</td>\n",
       "      <td>4.70</td>\n",
       "      <td>broken clouds</td>\n",
       "      <td>Clouds</td>\n",
       "      <td>0.0</td>\n",
       "      <td>0.0</td>\n",
       "    </tr>\n",
       "    <tr>\n",
       "      <th>15</th>\n",
       "      <td>15</td>\n",
       "      <td>Villa Bruzual</td>\n",
       "      <td>VE</td>\n",
       "      <td>2020-04-01 23:00:31</td>\n",
       "      <td>9.33</td>\n",
       "      <td>-69.12</td>\n",
       "      <td>89.29</td>\n",
       "      <td>38</td>\n",
       "      <td>88</td>\n",
       "      <td>2.57</td>\n",
       "      <td>overcast clouds</td>\n",
       "      <td>Clouds</td>\n",
       "      <td>0.0</td>\n",
       "      <td>0.0</td>\n",
       "    </tr>\n",
       "    <tr>\n",
       "      <th>16</th>\n",
       "      <td>16</td>\n",
       "      <td>Puerto Ayora</td>\n",
       "      <td>EC</td>\n",
       "      <td>2020-04-01 23:00:32</td>\n",
       "      <td>-0.74</td>\n",
       "      <td>-90.35</td>\n",
       "      <td>84.20</td>\n",
       "      <td>70</td>\n",
       "      <td>20</td>\n",
       "      <td>10.29</td>\n",
       "      <td>few clouds</td>\n",
       "      <td>Clouds</td>\n",
       "      <td>0.0</td>\n",
       "      <td>0.0</td>\n",
       "    </tr>\n",
       "  </tbody>\n",
       "</table>\n",
       "</div>"
      ],
      "text/plain": [
       "    Unnamed: 0           City Country                 Date    Lat     Lng  \\\n",
       "3            3           Hilo      US  2020-04-01 23:00:28  19.73 -155.09   \n",
       "5            5       Benguela      AO  2020-04-01 23:00:29 -12.58   13.41   \n",
       "14          14          Vaini      TO  2020-04-01 23:00:31 -21.20 -175.20   \n",
       "15          15  Villa Bruzual      VE  2020-04-01 23:00:31   9.33  -69.12   \n",
       "16          16   Puerto Ayora      EC  2020-04-01 23:00:32  -0.74  -90.35   \n",
       "\n",
       "    Max Temp  Humidity  Cloudiness  Wind Speed   Current Weather  \\\n",
       "3      80.60        57           1        5.82         clear sky   \n",
       "5      76.78        83          43        3.31  scattered clouds   \n",
       "14     84.20        74          75        4.70     broken clouds   \n",
       "15     89.29        38          88        2.57   overcast clouds   \n",
       "16     84.20        70          20       10.29        few clouds   \n",
       "\n",
       "   Type of Weather  Rain Inches(last 3h)  Snow Inches(last 3h)  \n",
       "3            Clear                   0.0                   0.0  \n",
       "5           Clouds                   0.0                   0.0  \n",
       "14          Clouds                   0.0                   0.0  \n",
       "15          Clouds                   0.0                   0.0  \n",
       "16          Clouds                   0.0                   0.0  "
      ]
     },
     "execution_count": 15,
     "metadata": {},
     "output_type": "execute_result"
    }
   ],
   "source": [
    "vacation_weather_df_2.head()"
   ]
  },
  {
   "cell_type": "code",
   "execution_count": 16,
   "metadata": {},
   "outputs": [],
   "source": [
    "hotel_df = vacation_weather_df_2[['City', 'Country', 'Max Temp', 'Lat', 'Lng', 'Current Weather']].copy()"
   ]
  },
  {
   "cell_type": "code",
   "execution_count": 17,
   "metadata": {},
   "outputs": [
    {
     "data": {
      "text/html": [
       "<div>\n",
       "<style scoped>\n",
       "    .dataframe tbody tr th:only-of-type {\n",
       "        vertical-align: middle;\n",
       "    }\n",
       "\n",
       "    .dataframe tbody tr th {\n",
       "        vertical-align: top;\n",
       "    }\n",
       "\n",
       "    .dataframe thead th {\n",
       "        text-align: right;\n",
       "    }\n",
       "</style>\n",
       "<table border=\"1\" class=\"dataframe\">\n",
       "  <thead>\n",
       "    <tr style=\"text-align: right;\">\n",
       "      <th></th>\n",
       "      <th>City</th>\n",
       "      <th>Country</th>\n",
       "      <th>Max Temp</th>\n",
       "      <th>Lat</th>\n",
       "      <th>Lng</th>\n",
       "      <th>Current Weather</th>\n",
       "    </tr>\n",
       "  </thead>\n",
       "  <tbody>\n",
       "    <tr>\n",
       "      <th>3</th>\n",
       "      <td>Hilo</td>\n",
       "      <td>US</td>\n",
       "      <td>80.60</td>\n",
       "      <td>19.73</td>\n",
       "      <td>-155.09</td>\n",
       "      <td>clear sky</td>\n",
       "    </tr>\n",
       "    <tr>\n",
       "      <th>5</th>\n",
       "      <td>Benguela</td>\n",
       "      <td>AO</td>\n",
       "      <td>76.78</td>\n",
       "      <td>-12.58</td>\n",
       "      <td>13.41</td>\n",
       "      <td>scattered clouds</td>\n",
       "    </tr>\n",
       "    <tr>\n",
       "      <th>14</th>\n",
       "      <td>Vaini</td>\n",
       "      <td>TO</td>\n",
       "      <td>84.20</td>\n",
       "      <td>-21.20</td>\n",
       "      <td>-175.20</td>\n",
       "      <td>broken clouds</td>\n",
       "    </tr>\n",
       "  </tbody>\n",
       "</table>\n",
       "</div>"
      ],
      "text/plain": [
       "        City Country  Max Temp    Lat     Lng   Current Weather\n",
       "3       Hilo      US     80.60  19.73 -155.09         clear sky\n",
       "5   Benguela      AO     76.78 -12.58   13.41  scattered clouds\n",
       "14     Vaini      TO     84.20 -21.20 -175.20     broken clouds"
      ]
     },
     "execution_count": 17,
     "metadata": {},
     "output_type": "execute_result"
    }
   ],
   "source": [
    "hotel_df.head(3)"
   ]
  },
  {
   "cell_type": "code",
   "execution_count": 18,
   "metadata": {},
   "outputs": [
    {
     "name": "stdout",
     "output_type": "stream",
     "text": [
      "Hotel not found... skipping.\n",
      "Hotel not found... skipping.\n",
      "Hotel not found... skipping.\n",
      "Hotel not found... skipping.\n",
      "Hotel not found... skipping.\n",
      "Hotel not found... skipping.\n",
      "Hotel not found... skipping.\n",
      "Hotel not found... skipping.\n",
      "Hotel not found... skipping.\n",
      "Hotel not found... skipping.\n",
      "Hotel not found... skipping.\n",
      "fin\n"
     ]
    }
   ],
   "source": [
    "params = {'radius': 5000, 'type': 'lodging', 'key': g_key2}\n",
    "# Iterate through the DataFrame.\n",
    "for index, row in hotel_df.iterrows():\n",
    "    # Get the latitude and longitude.\n",
    "    lat = row[\"Lat\"]\n",
    "    lng = row[\"Lng\"]\n",
    "\n",
    "    # Add the latitude and longitude to location key for the params dictionary.\n",
    "    params[\"location\"] = f\"{lat},{lng}\"\n",
    "\n",
    "    # Use the search term: \"lodging\" and our latitude and longitude.\n",
    "    base_url = \"https://maps.googleapis.com/maps/api/place/nearbysearch/json\"\n",
    "    # Make request and get the JSON data from the search.\n",
    "    hotels = requests.get(base_url, params=params).json()\n",
    "    # Grab the first hotel from the results and store the name.\n",
    "    try:\n",
    "        hotel_df.loc[index, \"Hotel Name\"] = hotels[\"results\"][0][\"name\"]\n",
    "    except (IndexError):\n",
    "        print(\"Hotel not found... skipping.\")\n",
    "print(\"fin\")"
   ]
  },
  {
   "cell_type": "code",
   "execution_count": 19,
   "metadata": {},
   "outputs": [],
   "source": [
    "info_box_template = \"\"\"\n",
    "<dl>\n",
    "<dt>Hotel Name</dt><dd>{Hotel Name}</dd>\n",
    "<dt>City</dt><dd>{City}</dd>\n",
    "<dt>Country</dt><dd>{Country}</dd>\n",
    "<dt>Conditions</dt><dd>{Current Weather} and {Max Temp} °F</dd>\n",
    "</dl>\n",
    "\"\"\"\n",
    "hotel_info = [info_box_template.format(**row) for index, row in hotel_df.iterrows()]"
   ]
  },
  {
   "cell_type": "code",
   "execution_count": 23,
   "metadata": {},
   "outputs": [
    {
     "data": {
      "application/vnd.jupyter.widget-view+json": {
       "model_id": "b561031bb8644d3eb8f9d23046bc14cb",
       "version_major": 2,
       "version_minor": 0
      },
      "text/plain": [
       "Figure(layout=FigureLayout(height='420px'))"
      ]
     },
     "metadata": {},
     "output_type": "display_data"
    }
   ],
   "source": [
    "# Add a heatmap of temperature for the vacation spots and a pop-up marker for each city.\n",
    "gmaps.configure(api_key=g_key2)\n",
    "locations = hotel_df[[\"Lat\", \"Lng\"]]\n",
    "max_temp = hotel_df[\"Max Temp\"]\n",
    "# Store the DataFrame Row.\n",
    "fig = gmaps.figure(center=(30.0, 31.0), zoom_level=1.5)\n",
    "heat_layer = gmaps.heatmap_layer(locations, weights=max_temp,dissipating=False, max_intensity=300, point_radius=4)\n",
    "marker_layer = gmaps.marker_layer(locations, info_box_content=hotel_info)\n",
    "fig.add_layer(heat_layer)\n",
    "fig.add_layer(marker_layer)\n",
    "\n",
    "# Call the figure to plot the data.\n",
    "fig"
   ]
  },
  {
   "cell_type": "code",
   "execution_count": 21,
   "metadata": {},
   "outputs": [
    {
     "data": {
      "text/html": [
       "<div>\n",
       "<style scoped>\n",
       "    .dataframe tbody tr th:only-of-type {\n",
       "        vertical-align: middle;\n",
       "    }\n",
       "\n",
       "    .dataframe tbody tr th {\n",
       "        vertical-align: top;\n",
       "    }\n",
       "\n",
       "    .dataframe thead th {\n",
       "        text-align: right;\n",
       "    }\n",
       "</style>\n",
       "<table border=\"1\" class=\"dataframe\">\n",
       "  <thead>\n",
       "    <tr style=\"text-align: right;\">\n",
       "      <th></th>\n",
       "      <th>City</th>\n",
       "      <th>Country</th>\n",
       "      <th>Max Temp</th>\n",
       "      <th>Lat</th>\n",
       "      <th>Lng</th>\n",
       "      <th>Current Weather</th>\n",
       "      <th>Hotel Name</th>\n",
       "    </tr>\n",
       "  </thead>\n",
       "  <tbody>\n",
       "    <tr>\n",
       "      <th>3</th>\n",
       "      <td>Hilo</td>\n",
       "      <td>US</td>\n",
       "      <td>80.60</td>\n",
       "      <td>19.73</td>\n",
       "      <td>-155.09</td>\n",
       "      <td>clear sky</td>\n",
       "      <td>Hilo Hawaiian Hotel</td>\n",
       "    </tr>\n",
       "    <tr>\n",
       "      <th>5</th>\n",
       "      <td>Benguela</td>\n",
       "      <td>AO</td>\n",
       "      <td>76.78</td>\n",
       "      <td>-12.58</td>\n",
       "      <td>13.41</td>\n",
       "      <td>scattered clouds</td>\n",
       "      <td>Hotel Praia Morena</td>\n",
       "    </tr>\n",
       "    <tr>\n",
       "      <th>14</th>\n",
       "      <td>Vaini</td>\n",
       "      <td>TO</td>\n",
       "      <td>84.20</td>\n",
       "      <td>-21.20</td>\n",
       "      <td>-175.20</td>\n",
       "      <td>broken clouds</td>\n",
       "      <td>Keleti Beach Resort</td>\n",
       "    </tr>\n",
       "    <tr>\n",
       "      <th>15</th>\n",
       "      <td>Villa Bruzual</td>\n",
       "      <td>VE</td>\n",
       "      <td>89.29</td>\n",
       "      <td>9.33</td>\n",
       "      <td>-69.12</td>\n",
       "      <td>overcast clouds</td>\n",
       "      <td>Hotel Turen</td>\n",
       "    </tr>\n",
       "    <tr>\n",
       "      <th>16</th>\n",
       "      <td>Puerto Ayora</td>\n",
       "      <td>EC</td>\n",
       "      <td>84.20</td>\n",
       "      <td>-0.74</td>\n",
       "      <td>-90.35</td>\n",
       "      <td>few clouds</td>\n",
       "      <td>Finch Bay Galapagos Hotel</td>\n",
       "    </tr>\n",
       "    <tr>\n",
       "      <th>...</th>\n",
       "      <td>...</td>\n",
       "      <td>...</td>\n",
       "      <td>...</td>\n",
       "      <td>...</td>\n",
       "      <td>...</td>\n",
       "      <td>...</td>\n",
       "      <td>...</td>\n",
       "    </tr>\n",
       "    <tr>\n",
       "      <th>559</th>\n",
       "      <td>Avera</td>\n",
       "      <td>US</td>\n",
       "      <td>66.20</td>\n",
       "      <td>33.19</td>\n",
       "      <td>-82.53</td>\n",
       "      <td>broken clouds</td>\n",
       "      <td>NaN</td>\n",
       "    </tr>\n",
       "    <tr>\n",
       "      <th>560</th>\n",
       "      <td>Loa Janan</td>\n",
       "      <td>ID</td>\n",
       "      <td>80.04</td>\n",
       "      <td>-0.58</td>\n",
       "      <td>117.09</td>\n",
       "      <td>broken clouds</td>\n",
       "      <td>Asrama Polisi Polsek Loajanan Res Kukar</td>\n",
       "    </tr>\n",
       "    <tr>\n",
       "      <th>562</th>\n",
       "      <td>Abu Dhabi</td>\n",
       "      <td>AE</td>\n",
       "      <td>75.00</td>\n",
       "      <td>24.47</td>\n",
       "      <td>54.37</td>\n",
       "      <td>few clouds</td>\n",
       "      <td>Beach Rotana</td>\n",
       "    </tr>\n",
       "    <tr>\n",
       "      <th>566</th>\n",
       "      <td>Palauig</td>\n",
       "      <td>PH</td>\n",
       "      <td>85.23</td>\n",
       "      <td>15.44</td>\n",
       "      <td>119.90</td>\n",
       "      <td>few clouds</td>\n",
       "      <td>Myhousebythesea</td>\n",
       "    </tr>\n",
       "    <tr>\n",
       "      <th>568</th>\n",
       "      <td>Puerto Carreno</td>\n",
       "      <td>CO</td>\n",
       "      <td>89.60</td>\n",
       "      <td>6.19</td>\n",
       "      <td>-67.49</td>\n",
       "      <td>broken clouds</td>\n",
       "      <td>Casa Hotel Victoria</td>\n",
       "    </tr>\n",
       "  </tbody>\n",
       "</table>\n",
       "<p>184 rows × 7 columns</p>\n",
       "</div>"
      ],
      "text/plain": [
       "               City Country  Max Temp    Lat     Lng   Current Weather  \\\n",
       "3              Hilo      US     80.60  19.73 -155.09         clear sky   \n",
       "5          Benguela      AO     76.78 -12.58   13.41  scattered clouds   \n",
       "14            Vaini      TO     84.20 -21.20 -175.20     broken clouds   \n",
       "15    Villa Bruzual      VE     89.29   9.33  -69.12   overcast clouds   \n",
       "16     Puerto Ayora      EC     84.20  -0.74  -90.35        few clouds   \n",
       "..              ...     ...       ...    ...     ...               ...   \n",
       "559           Avera      US     66.20  33.19  -82.53     broken clouds   \n",
       "560       Loa Janan      ID     80.04  -0.58  117.09     broken clouds   \n",
       "562       Abu Dhabi      AE     75.00  24.47   54.37        few clouds   \n",
       "566         Palauig      PH     85.23  15.44  119.90        few clouds   \n",
       "568  Puerto Carreno      CO     89.60   6.19  -67.49     broken clouds   \n",
       "\n",
       "                                  Hotel Name  \n",
       "3                        Hilo Hawaiian Hotel  \n",
       "5                         Hotel Praia Morena  \n",
       "14                       Keleti Beach Resort  \n",
       "15                               Hotel Turen  \n",
       "16                 Finch Bay Galapagos Hotel  \n",
       "..                                       ...  \n",
       "559                                      NaN  \n",
       "560  Asrama Polisi Polsek Loajanan Res Kukar  \n",
       "562                             Beach Rotana  \n",
       "566                          Myhousebythesea  \n",
       "568                      Casa Hotel Victoria  \n",
       "\n",
       "[184 rows x 7 columns]"
      ]
     },
     "execution_count": 21,
     "metadata": {},
     "output_type": "execute_result"
    }
   ],
   "source": [
    "hotel_df"
   ]
  },
  {
   "cell_type": "code",
   "execution_count": 22,
   "metadata": {},
   "outputs": [],
   "source": [
    "save_path = os.path.join('Resources','WeatherPy_vacation.csv')\n",
    "hotel_df.to_csv(save_path)"
   ]
  },
  {
   "cell_type": "code",
   "execution_count": null,
   "metadata": {},
   "outputs": [],
   "source": []
  }
 ],
 "metadata": {
  "kernelspec": {
   "display_name": "PythonData",
   "language": "python",
   "name": "pythondata"
  },
  "language_info": {
   "codemirror_mode": {
    "name": "ipython",
    "version": 3
   },
   "file_extension": ".py",
   "mimetype": "text/x-python",
   "name": "python",
   "nbconvert_exporter": "python",
   "pygments_lexer": "ipython3",
   "version": "3.7.6"
  }
 },
 "nbformat": 4,
 "nbformat_minor": 4
}
