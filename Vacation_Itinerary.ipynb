{
 "cells": [
  {
   "cell_type": "code",
   "execution_count": 55,
   "metadata": {},
   "outputs": [],
   "source": [
    "# Import pandas\n",
    "import pandas as pd\n",
    "import gmaps\n",
    "import gmaps.datasets\n",
    "from config import g_key2\n",
    "import os"
   ]
  },
  {
   "cell_type": "code",
   "execution_count": 8,
   "metadata": {},
   "outputs": [],
   "source": [
    "load_file = os.path.join(\"Resources\", \"WeatherPy_vacation.csv\")"
   ]
  },
  {
   "cell_type": "code",
   "execution_count": 9,
   "metadata": {},
   "outputs": [],
   "source": [
    "vacation_destinations_df = pd.read_csv(load_file)"
   ]
  },
  {
   "cell_type": "code",
   "execution_count": 14,
   "metadata": {},
   "outputs": [
    {
     "data": {
      "text/html": [
       "<div>\n",
       "<style scoped>\n",
       "    .dataframe tbody tr th:only-of-type {\n",
       "        vertical-align: middle;\n",
       "    }\n",
       "\n",
       "    .dataframe tbody tr th {\n",
       "        vertical-align: top;\n",
       "    }\n",
       "\n",
       "    .dataframe thead th {\n",
       "        text-align: right;\n",
       "    }\n",
       "</style>\n",
       "<table border=\"1\" class=\"dataframe\">\n",
       "  <thead>\n",
       "    <tr style=\"text-align: right;\">\n",
       "      <th></th>\n",
       "      <th>Unnamed: 0</th>\n",
       "      <th>City</th>\n",
       "      <th>Country</th>\n",
       "      <th>Max Temp</th>\n",
       "      <th>Lat</th>\n",
       "      <th>Lng</th>\n",
       "      <th>Current Weather</th>\n",
       "      <th>Hotel Name</th>\n",
       "    </tr>\n",
       "  </thead>\n",
       "  <tbody>\n",
       "    <tr>\n",
       "      <th>0</th>\n",
       "      <td>3</td>\n",
       "      <td>Hilo</td>\n",
       "      <td>US</td>\n",
       "      <td>80.60</td>\n",
       "      <td>19.73</td>\n",
       "      <td>-155.09</td>\n",
       "      <td>clear sky</td>\n",
       "      <td>Hilo Hawaiian Hotel</td>\n",
       "    </tr>\n",
       "    <tr>\n",
       "      <th>1</th>\n",
       "      <td>5</td>\n",
       "      <td>Benguela</td>\n",
       "      <td>AO</td>\n",
       "      <td>76.78</td>\n",
       "      <td>-12.58</td>\n",
       "      <td>13.41</td>\n",
       "      <td>scattered clouds</td>\n",
       "      <td>Hotel Praia Morena</td>\n",
       "    </tr>\n",
       "    <tr>\n",
       "      <th>2</th>\n",
       "      <td>14</td>\n",
       "      <td>Vaini</td>\n",
       "      <td>TO</td>\n",
       "      <td>84.20</td>\n",
       "      <td>-21.20</td>\n",
       "      <td>-175.20</td>\n",
       "      <td>broken clouds</td>\n",
       "      <td>Keleti Beach Resort</td>\n",
       "    </tr>\n",
       "    <tr>\n",
       "      <th>3</th>\n",
       "      <td>15</td>\n",
       "      <td>Villa Bruzual</td>\n",
       "      <td>VE</td>\n",
       "      <td>89.29</td>\n",
       "      <td>9.33</td>\n",
       "      <td>-69.12</td>\n",
       "      <td>overcast clouds</td>\n",
       "      <td>Hotel Turen</td>\n",
       "    </tr>\n",
       "    <tr>\n",
       "      <th>4</th>\n",
       "      <td>16</td>\n",
       "      <td>Puerto Ayora</td>\n",
       "      <td>EC</td>\n",
       "      <td>84.20</td>\n",
       "      <td>-0.74</td>\n",
       "      <td>-90.35</td>\n",
       "      <td>few clouds</td>\n",
       "      <td>Finch Bay Galapagos Hotel</td>\n",
       "    </tr>\n",
       "  </tbody>\n",
       "</table>\n",
       "</div>"
      ],
      "text/plain": [
       "   Unnamed: 0           City Country  Max Temp    Lat     Lng  \\\n",
       "0           3           Hilo      US     80.60  19.73 -155.09   \n",
       "1           5       Benguela      AO     76.78 -12.58   13.41   \n",
       "2          14          Vaini      TO     84.20 -21.20 -175.20   \n",
       "3          15  Villa Bruzual      VE     89.29   9.33  -69.12   \n",
       "4          16   Puerto Ayora      EC     84.20  -0.74  -90.35   \n",
       "\n",
       "    Current Weather                 Hotel Name  \n",
       "0         clear sky        Hilo Hawaiian Hotel  \n",
       "1  scattered clouds         Hotel Praia Morena  \n",
       "2     broken clouds        Keleti Beach Resort  \n",
       "3   overcast clouds                Hotel Turen  \n",
       "4        few clouds  Finch Bay Galapagos Hotel  "
      ]
     },
     "execution_count": 14,
     "metadata": {},
     "output_type": "execute_result"
    }
   ],
   "source": [
    "vacation_destinations_df.head()"
   ]
  },
  {
   "cell_type": "code",
   "execution_count": 18,
   "metadata": {},
   "outputs": [
    {
     "data": {
      "text/html": [
       "<div>\n",
       "<style scoped>\n",
       "    .dataframe tbody tr th:only-of-type {\n",
       "        vertical-align: middle;\n",
       "    }\n",
       "\n",
       "    .dataframe tbody tr th {\n",
       "        vertical-align: top;\n",
       "    }\n",
       "\n",
       "    .dataframe thead th {\n",
       "        text-align: right;\n",
       "    }\n",
       "</style>\n",
       "<table border=\"1\" class=\"dataframe\">\n",
       "  <thead>\n",
       "    <tr style=\"text-align: right;\">\n",
       "      <th></th>\n",
       "      <th>Unnamed: 0</th>\n",
       "      <th>City</th>\n",
       "      <th>Country</th>\n",
       "      <th>Max Temp</th>\n",
       "      <th>Lat</th>\n",
       "      <th>Lng</th>\n",
       "      <th>Current Weather</th>\n",
       "      <th>Hotel Name</th>\n",
       "    </tr>\n",
       "  </thead>\n",
       "  <tbody>\n",
       "    <tr>\n",
       "      <th>74</th>\n",
       "      <td>219</td>\n",
       "      <td>Maumere</td>\n",
       "      <td>ID</td>\n",
       "      <td>83.62</td>\n",
       "      <td>-8.62</td>\n",
       "      <td>122.21</td>\n",
       "      <td>few clouds</td>\n",
       "      <td>Sylvia Hotel</td>\n",
       "    </tr>\n",
       "    <tr>\n",
       "      <th>83</th>\n",
       "      <td>240</td>\n",
       "      <td>Pemangkat</td>\n",
       "      <td>ID</td>\n",
       "      <td>78.40</td>\n",
       "      <td>1.17</td>\n",
       "      <td>108.97</td>\n",
       "      <td>scattered clouds</td>\n",
       "      <td>Kost H.Syamsuddin</td>\n",
       "    </tr>\n",
       "    <tr>\n",
       "      <th>98</th>\n",
       "      <td>304</td>\n",
       "      <td>Atambua</td>\n",
       "      <td>ID</td>\n",
       "      <td>79.16</td>\n",
       "      <td>-9.11</td>\n",
       "      <td>124.89</td>\n",
       "      <td>broken clouds</td>\n",
       "      <td>Pondok Pesantren Al Muhajirin Atambua</td>\n",
       "    </tr>\n",
       "    <tr>\n",
       "      <th>102</th>\n",
       "      <td>328</td>\n",
       "      <td>Banjar</td>\n",
       "      <td>ID</td>\n",
       "      <td>78.80</td>\n",
       "      <td>-8.19</td>\n",
       "      <td>114.97</td>\n",
       "      <td>few clouds</td>\n",
       "      <td>The Hamsa Resort</td>\n",
       "    </tr>\n",
       "    <tr>\n",
       "      <th>106</th>\n",
       "      <td>345</td>\n",
       "      <td>Karaton</td>\n",
       "      <td>ID</td>\n",
       "      <td>78.80</td>\n",
       "      <td>-6.34</td>\n",
       "      <td>106.10</td>\n",
       "      <td>scattered clouds</td>\n",
       "      <td>Parkir Mobil Wisata CAS Water Park</td>\n",
       "    </tr>\n",
       "  </tbody>\n",
       "</table>\n",
       "</div>"
      ],
      "text/plain": [
       "     Unnamed: 0       City Country  Max Temp   Lat     Lng   Current Weather  \\\n",
       "74          219    Maumere      ID     83.62 -8.62  122.21        few clouds   \n",
       "83          240  Pemangkat      ID     78.40  1.17  108.97  scattered clouds   \n",
       "98          304    Atambua      ID     79.16 -9.11  124.89     broken clouds   \n",
       "102         328     Banjar      ID     78.80 -8.19  114.97        few clouds   \n",
       "106         345    Karaton      ID     78.80 -6.34  106.10  scattered clouds   \n",
       "\n",
       "                                Hotel Name  \n",
       "74                            Sylvia Hotel  \n",
       "83                       Kost H.Syamsuddin  \n",
       "98   Pondok Pesantren Al Muhajirin Atambua  \n",
       "102                       The Hamsa Resort  \n",
       "106     Parkir Mobil Wisata CAS Water Park  "
      ]
     },
     "execution_count": 18,
     "metadata": {},
     "output_type": "execute_result"
    }
   ],
   "source": [
    "find_country = vacation_destinations_df.loc[vacation_destinations_df['Country'] == 'ID' ]\n",
    "find_country.head()"
   ]
  },
  {
   "cell_type": "code",
   "execution_count": 19,
   "metadata": {},
   "outputs": [
    {
     "data": {
      "text/html": [
       "<div>\n",
       "<style scoped>\n",
       "    .dataframe tbody tr th:only-of-type {\n",
       "        vertical-align: middle;\n",
       "    }\n",
       "\n",
       "    .dataframe tbody tr th {\n",
       "        vertical-align: top;\n",
       "    }\n",
       "\n",
       "    .dataframe thead th {\n",
       "        text-align: right;\n",
       "    }\n",
       "</style>\n",
       "<table border=\"1\" class=\"dataframe\">\n",
       "  <thead>\n",
       "    <tr style=\"text-align: right;\">\n",
       "      <th></th>\n",
       "      <th>Unnamed: 0</th>\n",
       "      <th>City</th>\n",
       "      <th>Country</th>\n",
       "      <th>Max Temp</th>\n",
       "      <th>Lat</th>\n",
       "      <th>Lng</th>\n",
       "      <th>Current Weather</th>\n",
       "      <th>Hotel Name</th>\n",
       "    </tr>\n",
       "  </thead>\n",
       "  <tbody>\n",
       "    <tr>\n",
       "      <th>106</th>\n",
       "      <td>345</td>\n",
       "      <td>Karaton</td>\n",
       "      <td>ID</td>\n",
       "      <td>78.8</td>\n",
       "      <td>-6.34</td>\n",
       "      <td>106.1</td>\n",
       "      <td>scattered clouds</td>\n",
       "      <td>Parkir Mobil Wisata CAS Water Park</td>\n",
       "    </tr>\n",
       "  </tbody>\n",
       "</table>\n",
       "</div>"
      ],
      "text/plain": [
       "     Unnamed: 0     City Country  Max Temp   Lat    Lng   Current Weather  \\\n",
       "106         345  Karaton      ID      78.8 -6.34  106.1  scattered clouds   \n",
       "\n",
       "                             Hotel Name  \n",
       "106  Parkir Mobil Wisata CAS Water Park  "
      ]
     },
     "execution_count": 19,
     "metadata": {},
     "output_type": "execute_result"
    }
   ],
   "source": [
    "city_1_df = vacation_destinations_df.loc[vacation_destinations_df['City'] == 'Karaton' ]\n",
    "city_1_df.head()"
   ]
  },
  {
   "cell_type": "code",
   "execution_count": 20,
   "metadata": {},
   "outputs": [
    {
     "data": {
      "text/html": [
       "<div>\n",
       "<style scoped>\n",
       "    .dataframe tbody tr th:only-of-type {\n",
       "        vertical-align: middle;\n",
       "    }\n",
       "\n",
       "    .dataframe tbody tr th {\n",
       "        vertical-align: top;\n",
       "    }\n",
       "\n",
       "    .dataframe thead th {\n",
       "        text-align: right;\n",
       "    }\n",
       "</style>\n",
       "<table border=\"1\" class=\"dataframe\">\n",
       "  <thead>\n",
       "    <tr style=\"text-align: right;\">\n",
       "      <th></th>\n",
       "      <th>Unnamed: 0</th>\n",
       "      <th>City</th>\n",
       "      <th>Country</th>\n",
       "      <th>Max Temp</th>\n",
       "      <th>Lat</th>\n",
       "      <th>Lng</th>\n",
       "      <th>Current Weather</th>\n",
       "      <th>Hotel Name</th>\n",
       "    </tr>\n",
       "  </thead>\n",
       "  <tbody>\n",
       "    <tr>\n",
       "      <th>123</th>\n",
       "      <td>404</td>\n",
       "      <td>Bambanglipuro</td>\n",
       "      <td>ID</td>\n",
       "      <td>79.72</td>\n",
       "      <td>-7.95</td>\n",
       "      <td>110.28</td>\n",
       "      <td>scattered clouds</td>\n",
       "      <td>Puri Brata</td>\n",
       "    </tr>\n",
       "  </tbody>\n",
       "</table>\n",
       "</div>"
      ],
      "text/plain": [
       "     Unnamed: 0           City Country  Max Temp   Lat     Lng  \\\n",
       "123         404  Bambanglipuro      ID     79.72 -7.95  110.28   \n",
       "\n",
       "      Current Weather  Hotel Name  \n",
       "123  scattered clouds  Puri Brata  "
      ]
     },
     "execution_count": 20,
     "metadata": {},
     "output_type": "execute_result"
    }
   ],
   "source": [
    "city_2_df = vacation_destinations_df.loc[vacation_destinations_df['City'] == 'Bambanglipuro']\n",
    "city_2_df.head()"
   ]
  },
  {
   "cell_type": "code",
   "execution_count": 21,
   "metadata": {},
   "outputs": [
    {
     "data": {
      "text/html": [
       "<div>\n",
       "<style scoped>\n",
       "    .dataframe tbody tr th:only-of-type {\n",
       "        vertical-align: middle;\n",
       "    }\n",
       "\n",
       "    .dataframe tbody tr th {\n",
       "        vertical-align: top;\n",
       "    }\n",
       "\n",
       "    .dataframe thead th {\n",
       "        text-align: right;\n",
       "    }\n",
       "</style>\n",
       "<table border=\"1\" class=\"dataframe\">\n",
       "  <thead>\n",
       "    <tr style=\"text-align: right;\">\n",
       "      <th></th>\n",
       "      <th>Unnamed: 0</th>\n",
       "      <th>City</th>\n",
       "      <th>Country</th>\n",
       "      <th>Max Temp</th>\n",
       "      <th>Lat</th>\n",
       "      <th>Lng</th>\n",
       "      <th>Current Weather</th>\n",
       "      <th>Hotel Name</th>\n",
       "    </tr>\n",
       "  </thead>\n",
       "  <tbody>\n",
       "    <tr>\n",
       "      <th>116</th>\n",
       "      <td>380</td>\n",
       "      <td>Mlonggo</td>\n",
       "      <td>ID</td>\n",
       "      <td>77.0</td>\n",
       "      <td>-6.53</td>\n",
       "      <td>110.7</td>\n",
       "      <td>thunderstorm with rain</td>\n",
       "      <td>Asia Metal Art</td>\n",
       "    </tr>\n",
       "  </tbody>\n",
       "</table>\n",
       "</div>"
      ],
      "text/plain": [
       "     Unnamed: 0     City Country  Max Temp   Lat    Lng  \\\n",
       "116         380  Mlonggo      ID      77.0 -6.53  110.7   \n",
       "\n",
       "            Current Weather      Hotel Name  \n",
       "116  thunderstorm with rain  Asia Metal Art  "
      ]
     },
     "execution_count": 21,
     "metadata": {},
     "output_type": "execute_result"
    }
   ],
   "source": [
    "city_3_df = vacation_destinations_df.loc[vacation_destinations_df['City'] == 'Mlonggo']\n",
    "city_3_df.head()"
   ]
  },
  {
   "cell_type": "code",
   "execution_count": 22,
   "metadata": {},
   "outputs": [
    {
     "data": {
      "text/html": [
       "<div>\n",
       "<style scoped>\n",
       "    .dataframe tbody tr th:only-of-type {\n",
       "        vertical-align: middle;\n",
       "    }\n",
       "\n",
       "    .dataframe tbody tr th {\n",
       "        vertical-align: top;\n",
       "    }\n",
       "\n",
       "    .dataframe thead th {\n",
       "        text-align: right;\n",
       "    }\n",
       "</style>\n",
       "<table border=\"1\" class=\"dataframe\">\n",
       "  <thead>\n",
       "    <tr style=\"text-align: right;\">\n",
       "      <th></th>\n",
       "      <th>Unnamed: 0</th>\n",
       "      <th>City</th>\n",
       "      <th>Country</th>\n",
       "      <th>Max Temp</th>\n",
       "      <th>Lat</th>\n",
       "      <th>Lng</th>\n",
       "      <th>Current Weather</th>\n",
       "      <th>Hotel Name</th>\n",
       "    </tr>\n",
       "  </thead>\n",
       "  <tbody>\n",
       "    <tr>\n",
       "      <th>140</th>\n",
       "      <td>438</td>\n",
       "      <td>Paciran</td>\n",
       "      <td>ID</td>\n",
       "      <td>80.76</td>\n",
       "      <td>-6.88</td>\n",
       "      <td>112.38</td>\n",
       "      <td>broken clouds</td>\n",
       "      <td>Tanjung Kodok Beach Resort</td>\n",
       "    </tr>\n",
       "  </tbody>\n",
       "</table>\n",
       "</div>"
      ],
      "text/plain": [
       "     Unnamed: 0     City Country  Max Temp   Lat     Lng Current Weather  \\\n",
       "140         438  Paciran      ID     80.76 -6.88  112.38   broken clouds   \n",
       "\n",
       "                     Hotel Name  \n",
       "140  Tanjung Kodok Beach Resort  "
      ]
     },
     "execution_count": 22,
     "metadata": {},
     "output_type": "execute_result"
    }
   ],
   "source": [
    "city_4_df = vacation_destinations_df.loc[vacation_destinations_df['City'] == 'Paciran']\n",
    "city_4_df.head()"
   ]
  },
  {
   "cell_type": "code",
   "execution_count": 47,
   "metadata": {},
   "outputs": [
    {
     "name": "stdout",
     "output_type": "stream",
     "text": [
      "Karaton Latitude: -6.34\n",
      "Karaton Longitude: 106.1\n",
      "Karaton Coordinates: (-6.34, 106.1)\n"
     ]
    }
   ],
   "source": [
    "karaton_lat = city_1_df.iloc[0]['Lat']\n",
    "karaton_lng = city_1_df.iloc[0]['Lng']\n",
    "print(\"Karaton Latitude: \" + str(karaton_lat))\n",
    "print(\"Karaton Longitude: \" + str(karaton_lng))\n",
    "karaton = (karaton_lat, karaton_lng)\n",
    "print(\"Karaton Coordinates: \" + str(karaton))"
   ]
  },
  {
   "cell_type": "code",
   "execution_count": 49,
   "metadata": {},
   "outputs": [
    {
     "name": "stdout",
     "output_type": "stream",
     "text": [
      "Bambanglipuro Latitude: -7.95\n",
      "Bambanglipuro Longitude: 110.28\n",
      "Bambanglipuro Coordinates: (-7.95, 110.28)\n"
     ]
    }
   ],
   "source": [
    "bamb_lat = city_2_df.iloc[0]['Lat']\n",
    "bamb_lng = city_2_df.iloc[0]['Lng']\n",
    "print(\"Bambanglipuro Latitude: \" + str(bamb_lat))\n",
    "print(\"Bambanglipuro Longitude: \" + str(bamb_lng))\n",
    "bamb = (bamb_lat,bamb_lng)\n",
    "print(\"Bambanglipuro Coordinates: \" + str(bamb))"
   ]
  },
  {
   "cell_type": "code",
   "execution_count": 51,
   "metadata": {},
   "outputs": [
    {
     "name": "stdout",
     "output_type": "stream",
     "text": [
      "Mlonggo Latitude: -6.53\n",
      "Mlonggo Longitude: 110.7\n",
      "Mlonggo Coordinates: (-6.53, 110.7)\n"
     ]
    }
   ],
   "source": [
    "mlon_lat = city_3_df.iloc[0]['Lat']\n",
    "mlon_lng = city_3_df.iloc[0]['Lng']\n",
    "print(\"Mlonggo Latitude: \" + str(mlon_lat))\n",
    "print(\"Mlonggo Longitude: \" + str(mlon_lng))\n",
    "mlon = (mlon_lat, mlon_lng)\n",
    "print(\"Mlonggo Coordinates: \" + str(mlon))"
   ]
  },
  {
   "cell_type": "code",
   "execution_count": 43,
   "metadata": {},
   "outputs": [
    {
     "name": "stdout",
     "output_type": "stream",
     "text": [
      "-6.88\n",
      "112.38\n",
      "(-6.88, 112.38)\n"
     ]
    }
   ],
   "source": [
    "paciran_lat = city_4_df.iloc[0]['Lat']\n",
    "paciran_lng = city_4_df.iloc[0]['Lng']\n",
    "print(paciran_lat)\n",
    "print(paciran_lng)\n",
    "paciran = (paciran_lat, paciran_lng)\n",
    "print(paciran)"
   ]
  },
  {
   "cell_type": "code",
   "execution_count": 67,
   "metadata": {},
   "outputs": [
    {
     "data": {
      "application/vnd.jupyter.widget-view+json": {
       "model_id": "2cbdedda20fb4ad9b8d650335009be4a",
       "version_major": 2,
       "version_minor": 0
      },
      "text/plain": [
       "Figure(layout=FigureLayout(height='420px'))"
      ]
     },
     "metadata": {},
     "output_type": "display_data"
    }
   ],
   "source": [
    "gmaps.configure(api_key=g_key2)\n",
    "fig = gmaps.figure()\n",
    "karaton_to_paciran = gmaps.directions_layer(karaton, paciran, waypoints=[bamb, mlon], travel_mode='DRIVING')\n",
    "fig.add_layer(karaton_to_paciran)\n",
    "fig"
   ]
  },
  {
   "cell_type": "code",
   "execution_count": 73,
   "metadata": {},
   "outputs": [],
   "source": [
    "trip_route_df_1 = city_1_df.append(city_2_df)\n"
   ]
  },
  {
   "cell_type": "code",
   "execution_count": 74,
   "metadata": {},
   "outputs": [],
   "source": [
    "trip_route_df_2 = trip_route_df_1.append(city_3_df)"
   ]
  },
  {
   "cell_type": "code",
   "execution_count": 76,
   "metadata": {},
   "outputs": [
    {
     "data": {
      "text/html": [
       "<div>\n",
       "<style scoped>\n",
       "    .dataframe tbody tr th:only-of-type {\n",
       "        vertical-align: middle;\n",
       "    }\n",
       "\n",
       "    .dataframe tbody tr th {\n",
       "        vertical-align: top;\n",
       "    }\n",
       "\n",
       "    .dataframe thead th {\n",
       "        text-align: right;\n",
       "    }\n",
       "</style>\n",
       "<table border=\"1\" class=\"dataframe\">\n",
       "  <thead>\n",
       "    <tr style=\"text-align: right;\">\n",
       "      <th></th>\n",
       "      <th>Unnamed: 0</th>\n",
       "      <th>City</th>\n",
       "      <th>Country</th>\n",
       "      <th>Max Temp</th>\n",
       "      <th>Lat</th>\n",
       "      <th>Lng</th>\n",
       "      <th>Current Weather</th>\n",
       "      <th>Hotel Name</th>\n",
       "    </tr>\n",
       "  </thead>\n",
       "  <tbody>\n",
       "    <tr>\n",
       "      <th>106</th>\n",
       "      <td>345</td>\n",
       "      <td>Karaton</td>\n",
       "      <td>ID</td>\n",
       "      <td>78.80</td>\n",
       "      <td>-6.34</td>\n",
       "      <td>106.10</td>\n",
       "      <td>scattered clouds</td>\n",
       "      <td>Parkir Mobil Wisata CAS Water Park</td>\n",
       "    </tr>\n",
       "    <tr>\n",
       "      <th>123</th>\n",
       "      <td>404</td>\n",
       "      <td>Bambanglipuro</td>\n",
       "      <td>ID</td>\n",
       "      <td>79.72</td>\n",
       "      <td>-7.95</td>\n",
       "      <td>110.28</td>\n",
       "      <td>scattered clouds</td>\n",
       "      <td>Puri Brata</td>\n",
       "    </tr>\n",
       "    <tr>\n",
       "      <th>116</th>\n",
       "      <td>380</td>\n",
       "      <td>Mlonggo</td>\n",
       "      <td>ID</td>\n",
       "      <td>77.00</td>\n",
       "      <td>-6.53</td>\n",
       "      <td>110.70</td>\n",
       "      <td>thunderstorm with rain</td>\n",
       "      <td>Asia Metal Art</td>\n",
       "    </tr>\n",
       "    <tr>\n",
       "      <th>140</th>\n",
       "      <td>438</td>\n",
       "      <td>Paciran</td>\n",
       "      <td>ID</td>\n",
       "      <td>80.76</td>\n",
       "      <td>-6.88</td>\n",
       "      <td>112.38</td>\n",
       "      <td>broken clouds</td>\n",
       "      <td>Tanjung Kodok Beach Resort</td>\n",
       "    </tr>\n",
       "  </tbody>\n",
       "</table>\n",
       "</div>"
      ],
      "text/plain": [
       "     Unnamed: 0           City Country  Max Temp   Lat     Lng  \\\n",
       "106         345        Karaton      ID     78.80 -6.34  106.10   \n",
       "123         404  Bambanglipuro      ID     79.72 -7.95  110.28   \n",
       "116         380        Mlonggo      ID     77.00 -6.53  110.70   \n",
       "140         438        Paciran      ID     80.76 -6.88  112.38   \n",
       "\n",
       "            Current Weather                          Hotel Name  \n",
       "106        scattered clouds  Parkir Mobil Wisata CAS Water Park  \n",
       "123        scattered clouds                          Puri Brata  \n",
       "116  thunderstorm with rain                      Asia Metal Art  \n",
       "140           broken clouds          Tanjung Kodok Beach Resort  "
      ]
     },
     "execution_count": 76,
     "metadata": {},
     "output_type": "execute_result"
    }
   ],
   "source": [
    "trip_route_df = trip_route_df_2.append(city_4_df)\n",
    "trip_route_df.head()"
   ]
  },
  {
   "cell_type": "code",
   "execution_count": null,
   "metadata": {},
   "outputs": [],
   "source": []
  }
 ],
 "metadata": {
  "kernelspec": {
   "display_name": "PythonData",
   "language": "python",
   "name": "pythondata"
  },
  "language_info": {
   "codemirror_mode": {
    "name": "ipython",
    "version": 3
   },
   "file_extension": ".py",
   "mimetype": "text/x-python",
   "name": "python",
   "nbconvert_exporter": "python",
   "pygments_lexer": "ipython3",
   "version": "3.7.6"
  }
 },
 "nbformat": 4,
 "nbformat_minor": 4
}
